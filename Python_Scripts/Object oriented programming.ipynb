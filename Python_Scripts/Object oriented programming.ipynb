{
 "cells": [
  {
   "cell_type": "code",
   "execution_count": 2,
   "metadata": {},
   "outputs": [],
   "source": [
    "class Book():\n",
    "    pass\n",
    "\n",
    "book_1 = Book()"
   ]
  },
  {
   "cell_type": "code",
   "execution_count": 3,
   "metadata": {},
   "outputs": [
    {
     "data": {
      "text/plain": [
       "__main__.Book"
      ]
     },
     "execution_count": 3,
     "metadata": {},
     "output_type": "execute_result"
    }
   ],
   "source": [
    "type(book_1)"
   ]
  },
  {
   "cell_type": "code",
   "execution_count": 5,
   "metadata": {},
   "outputs": [
    {
     "name": "stdout",
     "output_type": "stream",
     "text": [
      "New book created\n"
     ]
    }
   ],
   "source": [
    "class Book():\n",
    "    \n",
    "    def __init__(self):\n",
    "        print(\"New book created\")\n",
    "        \n",
    "book_1 = Book()"
   ]
  },
  {
   "cell_type": "code",
   "execution_count": 17,
   "metadata": {},
   "outputs": [
    {
     "name": "stdout",
     "output_type": "stream",
     "text": [
      "Book title: Microbiology 101\n",
      "Order status: avaiable\n",
      "Order status: ordered\n",
      "Order status: avaiable\n"
     ]
    }
   ],
   "source": [
    "class Book():\n",
    "    \n",
    "    def __init__(self, title):\n",
    "        self.title = title\n",
    "        self.order_status = \"avaiable\"\n",
    "        \n",
    "    def tell_title(self):\n",
    "        print(\"Book title: \" + self.title)\n",
    "    \n",
    "    def tell_order_status(self):\n",
    "        print(\"Order status: \" + self.order_status)\n",
    "        \n",
    "    def order(self):\n",
    "        self.order_status = \"ordered\"\n",
    "        \n",
    "    def return_item(self):\n",
    "        self.order_status = \"avaiable\"\n",
    "        \n",
    "book_1 = Book(\"Microbiology 101\")\n",
    "book_1.tell_title()\n",
    "book_1.tell_order_status()\n",
    "book_1.order()\n",
    "book_1.tell_order_status()\n",
    "book_1.return_item()\n",
    "book_1.tell_order_status()"
   ]
  },
  {
   "cell_type": "code",
   "execution_count": 21,
   "metadata": {},
   "outputs": [
    {
     "name": "stdout",
     "output_type": "stream",
     "text": [
      "Book title: Microbiology 101\n",
      "Order status: avaiable\n",
      "Sorry the book Microbiology 101 is already booked\n",
      "Order status: ordered\n",
      "Order status: avaiable\n"
     ]
    }
   ],
   "source": [
    "class Book():\n",
    "    \n",
    "    def __init__(self, title):\n",
    "        self.title = title\n",
    "        self.order_status = \"avaiable\"\n",
    "        \n",
    "    def tell_title(self):\n",
    "        print(\"Book title: \" + self.title)\n",
    "    \n",
    "    def tell_order_status(self):\n",
    "        print(\"Order status: \" + self.order_status)\n",
    "        \n",
    "    def order(self):\n",
    "        self.order_status = \"ordered\"\n",
    "        if self.order_status == \"ordered\":\n",
    "            print(\"Sorry the book \" + self.title + \" is already booked\")\n",
    "            return\n",
    "    \n",
    "    def return_item(self):\n",
    "        self.order_status = \"avaiable\"\n",
    "        \n",
    "book_1 = Book(\"Microbiology 101\")\n",
    "book_1.tell_title()\n",
    "book_1.tell_order_status()\n",
    "book_1.order()\n",
    "book_1.tell_order_status()\n",
    "book_1.return_item()\n",
    "book_1.tell_order_status()"
   ]
  },
  {
   "cell_type": "code",
   "execution_count": null,
   "metadata": {},
   "outputs": [],
   "source": []
  }
 ],
 "metadata": {
  "kernelspec": {
   "display_name": "Python 3",
   "language": "python",
   "name": "python3"
  },
  "language_info": {
   "codemirror_mode": {
    "name": "ipython",
    "version": 3
   },
   "file_extension": ".py",
   "mimetype": "text/x-python",
   "name": "python",
   "nbconvert_exporter": "python",
   "pygments_lexer": "ipython3",
   "version": "3.8.5"
  }
 },
 "nbformat": 4,
 "nbformat_minor": 4
}
